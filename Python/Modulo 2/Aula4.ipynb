{
  "nbformat": 4,
  "nbformat_minor": 0,
  "metadata": {
    "colab": {
      "name": "Aula4.ipynb",
      "provenance": [],
      "collapsed_sections": [],
      "authorship_tag": "ABX9TyOOU0GEAPn9A1P3Bj+66GsF",
      "include_colab_link": true
    },
    "kernelspec": {
      "name": "python3",
      "display_name": "Python 3"
    },
    "language_info": {
      "name": "python"
    }
  },
  "cells": [
    {
      "cell_type": "markdown",
      "metadata": {
        "id": "view-in-github",
        "colab_type": "text"
      },
      "source": [
        "<a href=\"https://colab.research.google.com/github/0xFelipe/0XFelipe/blob/main/Python/Modulo%202/Aula4.ipynb\" target=\"_parent\"><img src=\"https://colab.research.google.com/assets/colab-badge.svg\" alt=\"Open In Colab\"/></a>"
      ]
    },
    {
      "cell_type": "code",
      "execution_count": 1,
      "metadata": {
        "colab": {
          "base_uri": "https://localhost:8080/"
        },
        "id": "fj9AlTjFVrqO",
        "outputId": "9fbe1c03-5669-48fb-97ce-48bcea1c77eb"
      },
      "outputs": [
        {
          "output_type": "execute_result",
          "data": {
            "text/plain": [
              "float"
            ]
          },
          "metadata": {},
          "execution_count": 1
        }
      ],
      "source": [
        "#Números sem aspas são considerados float\n",
        "type(295.00)"
      ]
    },
    {
      "cell_type": "code",
      "source": [
        "#Qualquer item dentro de aspas é considerado string\n",
        "str = \"R$ 1295,00\"\n",
        "type(str)"
      ],
      "metadata": {
        "colab": {
          "base_uri": "https://localhost:8080/"
        },
        "id": "dbWPjb20Vw89",
        "outputId": "4c83b9eb-4cb7-4393-ac8f-4d62f97e809d"
      },
      "execution_count": 5,
      "outputs": [
        {
          "output_type": "execute_result",
          "data": {
            "text/plain": [
              "str"
            ]
          },
          "metadata": {},
          "execution_count": 5
        }
      ]
    },
    {
      "cell_type": "code",
      "source": [
        "#Split é usado quando se quer separar grupos pelos espaços no caso RS pertence ao grupo 0 e o valor numerico ao grupo 1\n",
        "str.split()"
      ],
      "metadata": {
        "colab": {
          "base_uri": "https://localhost:8080/"
        },
        "id": "k80cZrYbV7QE",
        "outputId": "5774f684-3875-4389-98a6-8bf53ba7bac2"
      },
      "execution_count": 6,
      "outputs": [
        {
          "output_type": "execute_result",
          "data": {
            "text/plain": [
              "['R$', '1295,00']"
            ]
          },
          "metadata": {},
          "execution_count": 6
        }
      ]
    },
    {
      "cell_type": "code",
      "source": [
        "#Usando a mesma logica de cima selecionamos apenas o grupo 1 o número\n",
        "numero = str.split()[1]\n",
        "print(numero)"
      ],
      "metadata": {
        "colab": {
          "base_uri": "https://localhost:8080/"
        },
        "id": "3hJ5T8j-WOfQ",
        "outputId": "018242cf-4fb9-4d53-bac7-91299471f443"
      },
      "execution_count": 9,
      "outputs": [
        {
          "output_type": "stream",
          "name": "stdout",
          "text": [
            "1295,00\n"
          ]
        }
      ]
    },
    {
      "cell_type": "code",
      "source": [
        "#Usando a variavel replace para trocar a virgula por um ponto\n",
        "convert = numero.replace(\",\", \".\")"
      ],
      "metadata": {
        "id": "J5Ws6qQcXLVP"
      },
      "execution_count": 27,
      "outputs": []
    },
    {
      "cell_type": "code",
      "source": [
        "#Convertendo a string em um float\n",
        "float(convert)"
      ],
      "metadata": {
        "colab": {
          "base_uri": "https://localhost:8080/"
        },
        "id": "se1n8wWVXi1t",
        "outputId": "03fef7ef-2232-4c20-ba04-08df8adbd3ee"
      },
      "execution_count": 28,
      "outputs": [
        {
          "output_type": "execute_result",
          "data": {
            "text/plain": [
              "1295.0"
            ]
          },
          "metadata": {},
          "execution_count": 28
        }
      ]
    },
    {
      "cell_type": "code",
      "source": [
        "# Associando Strings as variaveis\n",
        "nome = \"Felipe\"\n",
        "sobrenome = \"Mendes\"\n",
        "sufixo = \"Souza\"\n",
        "profissao = \"Analista de Suporte\"\n",
        "\n",
        "#Imprimir nome completo e profissão\n",
        "print(nome, sufixo, sobrenome)\n",
        "print(\"Atua como:\" + profissao + \".\")"
      ],
      "metadata": {
        "colab": {
          "base_uri": "https://localhost:8080/"
        },
        "id": "f7kMSGAyXydS",
        "outputId": "3e951269-df80-4766-8551-80c80a7f8c26"
      },
      "execution_count": 38,
      "outputs": [
        {
          "output_type": "stream",
          "name": "stdout",
          "text": [
            "Felipe Souza Mendes\n",
            "Atua como:Analista de Suporte.\n"
          ]
        }
      ]
    },
    {
      "cell_type": "code",
      "source": [
        ""
      ],
      "metadata": {
        "id": "rfOjlBvqaARq"
      },
      "execution_count": null,
      "outputs": []
    }
  ]
}